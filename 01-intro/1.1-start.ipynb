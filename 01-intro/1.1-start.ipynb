{
 "cells": [
  {
   "cell_type": "code",
   "execution_count": 1,
   "metadata": {},
   "outputs": [],
   "source": [
    "from openai import OpenAI\n",
    "import os"
   ]
  },
  {
   "cell_type": "code",
   "execution_count": 3,
   "metadata": {},
   "outputs": [],
   "source": [
    "client = OpenAI()"
   ]
  },
  {
   "cell_type": "code",
   "execution_count": 4,
   "metadata": {},
   "outputs": [],
   "source": [
    "response = client.chat.completions.create(\n",
    "    model='gpt-4o',\n",
    "    messages = [{'role': 'user', 'content': 'Is is too late to join the course?'}]\n",
    ")"
   ]
  },
  {
   "cell_type": "code",
   "execution_count": 12,
   "metadata": {},
   "outputs": [
    {
     "data": {
      "text/plain": [
       "ChatCompletion(id='chatcmpl-9s5nV1xMk9zwcBubpXtsmWeYLNTOY', choices=[Choice(finish_reason='stop', index=0, logprobs=None, message=ChatCompletionMessage(content=\"It's difficult to determine whether it's too late to join a course without additional information. Factors to consider include:\\n\\n1. **Official Deadlines**: Check the registration or enrollment deadlines set by the course or institution.\\n2. **Course Progress**: Consider how far along the course is. If it has just started, you might still be able to catch up.\\n3. **Instructor Policies**: Inquire with the instructor or course administrator. Some may allow late enrollments with certain conditions, such as completed prerequisites or catching up on missed material.\\n4. **Course Format**: If it’s an online, self-paced course, there might be more flexibility compared to structured, in-person classes.\\n5. **Institutional Guidelines**: Different institutions have varying guidelines for late enrollment, which might include potential fees or required approvals.\\n\\nTo get a definitive answer, contact the institution or course coordinator directly as soon as possible.\", role='assistant', function_call=None, tool_calls=None))], created=1722679025, model='gpt-4o-2024-05-13', object='chat.completion', service_tier=None, system_fingerprint='fp_4e2b2da518', usage=CompletionUsage(completion_tokens=183, prompt_tokens=16, total_tokens=199))"
      ]
     },
     "execution_count": 12,
     "metadata": {},
     "output_type": "execute_result"
    }
   ],
   "source": [
    "response"
   ]
  },
  {
   "cell_type": "code",
   "execution_count": 11,
   "metadata": {},
   "outputs": [
    {
     "data": {
      "text/plain": [
       "[Choice(finish_reason='stop', index=0, logprobs=None, message=ChatCompletionMessage(content=\"It's difficult to determine whether it's too late to join a course without additional information. Factors to consider include:\\n\\n1. **Official Deadlines**: Check the registration or enrollment deadlines set by the course or institution.\\n2. **Course Progress**: Consider how far along the course is. If it has just started, you might still be able to catch up.\\n3. **Instructor Policies**: Inquire with the instructor or course administrator. Some may allow late enrollments with certain conditions, such as completed prerequisites or catching up on missed material.\\n4. **Course Format**: If it’s an online, self-paced course, there might be more flexibility compared to structured, in-person classes.\\n5. **Institutional Guidelines**: Different institutions have varying guidelines for late enrollment, which might include potential fees or required approvals.\\n\\nTo get a definitive answer, contact the institution or course coordinator directly as soon as possible.\", role='assistant', function_call=None, tool_calls=None))]"
      ]
     },
     "execution_count": 11,
     "metadata": {},
     "output_type": "execute_result"
    }
   ],
   "source": [
    "response.choices"
   ]
  },
  {
   "cell_type": "code",
   "execution_count": 10,
   "metadata": {},
   "outputs": [
    {
     "data": {
      "text/plain": [
       "Choice(finish_reason='stop', index=0, logprobs=None, message=ChatCompletionMessage(content=\"It's difficult to determine whether it's too late to join a course without additional information. Factors to consider include:\\n\\n1. **Official Deadlines**: Check the registration or enrollment deadlines set by the course or institution.\\n2. **Course Progress**: Consider how far along the course is. If it has just started, you might still be able to catch up.\\n3. **Instructor Policies**: Inquire with the instructor or course administrator. Some may allow late enrollments with certain conditions, such as completed prerequisites or catching up on missed material.\\n4. **Course Format**: If it’s an online, self-paced course, there might be more flexibility compared to structured, in-person classes.\\n5. **Institutional Guidelines**: Different institutions have varying guidelines for late enrollment, which might include potential fees or required approvals.\\n\\nTo get a definitive answer, contact the institution or course coordinator directly as soon as possible.\", role='assistant', function_call=None, tool_calls=None))"
      ]
     },
     "execution_count": 10,
     "metadata": {},
     "output_type": "execute_result"
    }
   ],
   "source": [
    "response.choices[0]"
   ]
  },
  {
   "cell_type": "code",
   "execution_count": 16,
   "metadata": {},
   "outputs": [
    {
     "data": {
      "text/plain": [
       "ChatCompletionMessage(content=\"It's not too late to join the course! Many courses offer flexible enrollment periods or rolling admissions, so it's always worth checking directly with the course provider or institution. If the enrollment period for a specific course has already passed, you might still have options like:\\n\\n1. **Late Enrollment**: Contact the course administrator to see if late enrollment is possible.\\n2. **Waitlist**: Some courses offer a waitlist, allowing you to join if a spot opens up.\\n3. **Online Courses**: Many online platforms offer courses that you can start at any time.\\n4. **Audit the Course**: Some institutions allow students to audit courses, meaning you can participate without receiving formal credit.\\n\\nDon't hesitate to reach out to the course coordinator to ask about your options!\", role='assistant', function_call=None, tool_calls=None)"
      ]
     },
     "execution_count": 16,
     "metadata": {},
     "output_type": "execute_result"
    }
   ],
   "source": [
    "response.choices[0].message"
   ]
  },
  {
   "cell_type": "code",
   "execution_count": 26,
   "metadata": {},
   "outputs": [
    {
     "data": {
      "text/plain": [
       "\"It's not too late to join the course! Many courses offer flexible enrollment periods or rolling admissions, so it's always worth checking directly with the course provider or institution. If the enrollment period for a specific course has already passed, you might still have options like:\\n\\n1. **Late Enrollment**: Contact the course administrator to see if late enrollment is possible.\\n2. **Waitlist**: Some courses offer a waitlist, allowing you to join if a spot opens up.\\n3. **Online Courses**: Many online platforms offer courses that you can start at any time.\\n4. **Audit the Course**: Some institutions allow students to audit courses, meaning you can participate without receiving formal credit.\\n\\nDon't hesitate to reach out to the course coordinator to ask about your options!\""
      ]
     },
     "execution_count": 26,
     "metadata": {},
     "output_type": "execute_result"
    }
   ],
   "source": [
    "response.choices[0].message.content"
   ]
  },
  {
   "cell_type": "code",
   "execution_count": null,
   "metadata": {},
   "outputs": [],
   "source": []
  },
  {
   "cell_type": "code",
   "execution_count": null,
   "metadata": {},
   "outputs": [],
   "source": []
  },
  {
   "cell_type": "code",
   "execution_count": null,
   "metadata": {},
   "outputs": [],
   "source": []
  },
  {
   "cell_type": "code",
   "execution_count": 3,
   "metadata": {},
   "outputs": [],
   "source": [
    "# import os\n",
    "# OPENAI_API_KEY = os.getenv('OPENAI_API_KEY')"
   ]
  },
  {
   "cell_type": "code",
   "execution_count": null,
   "metadata": {},
   "outputs": [],
   "source": []
  }
 ],
 "metadata": {
  "kernelspec": {
   "display_name": "Python 3",
   "language": "python",
   "name": "python3"
  },
  "language_info": {
   "codemirror_mode": {
    "name": "ipython",
    "version": 3
   },
   "file_extension": ".py",
   "mimetype": "text/x-python",
   "name": "python",
   "nbconvert_exporter": "python",
   "pygments_lexer": "ipython3",
   "version": "3.10.0"
  }
 },
 "nbformat": 4,
 "nbformat_minor": 2
}
